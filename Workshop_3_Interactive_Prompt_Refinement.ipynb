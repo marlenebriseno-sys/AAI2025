{
  "cells": [
    {
      "cell_type": "markdown",
      "metadata": {
        "id": "view-in-github",
        "colab_type": "text"
      },
      "source": [
        "<a href=\"https://colab.research.google.com/github/myrah/AAI2025/blob/dev/Workshop_3_Interactive_Prompt_Refinement.ipynb\" target=\"_parent\"><img src=\"https://colab.research.google.com/assets/colab-badge.svg\" alt=\"Open In Colab\"/></a>"
      ]
    },
    {
      "cell_type": "code",
      "source": [
        "# Workshop 3: Interactive Prompt Refinement for a Recommendation System\n",
        "# Objective: To practice iterating on a prompt based on the AI's output to achieve a more desirable result.\n",
        "# Scenario: You are creating a movie recommendation agent. Your first prompt gives a generic list.\n",
        "# You need to refine the prompt to get a more personalized and well-structured response.\n",
        "\n",
        "def movie_recommendation_agent(prompt):\n",
        "    \"\"\"\n",
        "    Simulates an AI agent providing movie recommendations.\n",
        "    \"\"\"\n",
        "    print(f\"--- Sending Prompt to AI Agent ---\\n{prompt}\\n----------------------------------\")\n",
        "    # Simulated AI responses\n",
        "    if \"table\" in prompt.lower() and \"sci-fi\" in prompt.lower():\n",
        "        response = \"\"\"\n",
        "Of course! Here are three sci-fi movies that blend action with thought-provoking themes, formatted as a markdown table:\n",
        "\n",
        "| Title           | Year | Reason for Recommendation                               |\n",
        "|-----------------|------|---------------------------------------------------------|\n",
        "| Blade Runner 2049 | 2017 | A visually stunning masterpiece with deep philosophical questions about humanity. |\n",
        "| The Matrix        | 1999 | A groundbreaking film that redefined the action genre with its unique concept. |\n",
        "| Arrival         | 2016 | A captivating and intelligent story about communication and time. |\n",
        "\"\"\"\n",
        "    else:\n",
        "        response = \"You might like Blade Runner, The Matrix, or Arrival.\"\n",
        "    return response\n",
        "\n",
        "# --- Task ---\n",
        "# The initial prompt is too broad. You will refine it in two steps to get a better response.\n",
        "\n",
        "# --- Iteration 1 ---\n",
        "initial_prompt = \"Recommend some movies.\"\n",
        "print(\"--- Response from Initial Prompt ---\")\n",
        "print(movie_recommendation_agent(initial_prompt))\n",
        "print(\"Analysis: The response is too generic. It lacks genre, context, and a clear format.\\n\\n\")\n",
        "\n",
        "# --- Iteration 2 ---\n",
        "# Refine the prompt to ask for a specific genre and number of movies.\n",
        "refined_prompt_1 = \"\"\"\n",
        "Recommend three action-packed sci-fi movies.\n",
        "\"\"\"\n",
        "print(\"--- Response from Refined Prompt 1 ---\")\n",
        "# This will still trigger the generic response in our simulation, showing the need for more detail.\n",
        "print(movie_recommendation_agent(refined_prompt_1))\n",
        "print(\"Analysis: Better, but the output format is a simple list. We can do more!\\n\\n\")\n",
        "\n",
        "\n",
        "# --- Iteration 3 ---\n",
        "# Refine the prompt again to specify the output format and the 'why'.\n",
        "refined_prompt_2 = \"\"\"\n",
        "You are a film critic AI.\n",
        "Recommend three action-packed sci-fi movies for someone who enjoys thought-provoking themes.\n",
        "Present the output as a markdown table with three columns: 'Title', 'Year', and 'Reason for Recommendation'.\n",
        "\"\"\"\n",
        "print(\"--- Response from Refined Prompt 2 ---\")\n",
        "print(movie_recommendation_agent(refined_prompt_2))\n",
        "print(\"Analysis: Success! The response is now structured, personalized, and informative.\")"
      ],
      "outputs": [
        {
          "output_type": "stream",
          "name": "stdout",
          "text": [
            "--- Response from Initial Prompt ---\n",
            "--- Sending Prompt to AI Agent ---\n",
            "Recommend some movies.\n",
            "----------------------------------\n",
            "You might like Blade Runner, The Matrix, or Arrival.\n",
            "Analysis: The response is too generic. It lacks genre, context, and a clear format.\n",
            "\n",
            "\n",
            "--- Response from Refined Prompt 1 ---\n",
            "--- Sending Prompt to AI Agent ---\n",
            "\n",
            "Recommend three action-packed sci-fi movies.\n",
            "\n",
            "----------------------------------\n",
            "You might like Blade Runner, The Matrix, or Arrival.\n",
            "Analysis: Better, but the output format is a simple list. We can do more!\n",
            "\n",
            "\n",
            "--- Response from Refined Prompt 2 ---\n",
            "--- Sending Prompt to AI Agent ---\n",
            "\n",
            "You are a film critic AI.\n",
            "Recommend three action-packed sci-fi movies for someone who enjoys thought-provoking themes.\n",
            "Present the output as a markdown table with three columns: 'Title', 'Year', and 'Reason for Recommendation'.\n",
            "\n",
            "----------------------------------\n",
            "\n",
            "Of course! Here are three sci-fi movies that blend action with thought-provoking themes, formatted as a markdown table:\n",
            "\n",
            "| Title           | Year | Reason for Recommendation                               |\n",
            "|-----------------|------|---------------------------------------------------------|\n",
            "| Blade Runner 2049 | 2017 | A visually stunning masterpiece with deep philosophical questions about humanity. |\n",
            "| The Matrix        | 1999 | A groundbreaking film that redefined the action genre with its unique concept. |\n",
            "| Arrival         | 2016 | A captivating and intelligent story about communication and time. |\n",
            "\n",
            "Analysis: Success! The response is now structured, personalized, and informative.\n"
          ]
        }
      ],
      "execution_count": null,
      "metadata": {
        "colab": {
          "base_uri": "https://localhost:8080/"
        },
        "id": "rr4VZDOLnXdz",
        "outputId": "5227bbbf-183d-473f-e074-3d684b24a310"
      }
    }
  ],
  "metadata": {
    "colab": {
      "provenance": [],
      "include_colab_link": true
    },
    "kernelspec": {
      "display_name": "Python 3",
      "name": "python3"
    }
  },
  "nbformat": 4,
  "nbformat_minor": 0
}