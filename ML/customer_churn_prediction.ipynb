{
  "nbformat": 4,
  "nbformat_minor": 0,
  "metadata": {
    "colab": {
      "provenance": [],
      "authorship_tag": "ABX9TyN5qWwi0nrXSP3ADm5zowXS",
      "include_colab_link": true
    },
    "kernelspec": {
      "name": "python3",
      "display_name": "Python 3"
    },
    "language_info": {
      "name": "python"
    }
  },
  "cells": [
    {
      "cell_type": "markdown",
      "metadata": {
        "id": "view-in-github",
        "colab_type": "text"
      },
      "source": [
        "<a href=\"https://colab.research.google.com/github/myrah/AAI2025/blob/dev/ML/customer_churn_prediction.ipynb\" target=\"_parent\"><img src=\"https://colab.research.google.com/assets/colab-badge.svg\" alt=\"Open In Colab\"/></a>"
      ]
    },
    {
      "cell_type": "code",
      "execution_count": 2,
      "metadata": {
        "colab": {
          "base_uri": "https://localhost:8080/"
        },
        "id": "Kgu7hkiP-G6j",
        "outputId": "2baace00-9c17-4776-bfc9-e997c1d4e844"
      },
      "outputs": [
        {
          "output_type": "stream",
          "name": "stdout",
          "text": [
            "Churn Probability for new customer: 0.82\n",
            "Churn Prediction (1 = churn, 0 = no churn): 1\n",
            "\n",
            "Model Coefficients:\n",
            "region_East: -0.13\n",
            "region_North: -0.62\n",
            "region_South: -0.67\n",
            "region_West: 0.80\n",
            "age: 0.17\n",
            "monthly_usage_hours: -0.38\n",
            "purchase_amount: -0.03\n",
            "customer_service_calls: 0.24\n"
          ]
        }
      ],
      "source": [
        "import pandas as pd\n",
        "import numpy as np\n",
        "from sklearn.model_selection import train_test_split\n",
        "from sklearn.linear_model import LogisticRegression\n",
        "from sklearn.preprocessing import StandardScaler, OneHotEncoder\n",
        "from sklearn.compose import ColumnTransformer\n",
        "from sklearn.pipeline import Pipeline\n",
        "\n",
        "# Generate sample customer data\n",
        "data = {\n",
        "    'age': [25, 34, 45, 28, 52, 36, 41, 29, 47, 33],\n",
        "    'monthly_usage_hours': [10, 50, 20, 15, 60, 30, 25, 12, 55, 40],\n",
        "    'purchase_amount': [100, 250, 150, 80, 300, 200, 175, 90, 280, 220],\n",
        "    'customer_service_calls': [5, 2, 8, 6, 1, 3, 7, 4, 0, 2],\n",
        "    'region': ['North', 'South', 'West', 'East', 'South', 'North', 'West', 'East',\n",
        "               'South', 'North'],\n",
        "    'churn': [1, 0, 1, 1, 0, 0, 1, 1, 0, 0] # 1 = churned, 0 = not churned\n",
        "}\n",
        "df = pd.DataFrame(data)\n",
        "\n",
        "# Features and target\n",
        "X = df[['age', 'monthly_usage_hours', 'purchase_amount', 'customer_service_calls',\n",
        "        'region']]\n",
        "y = df['churn']\n",
        "\n",
        "# Preprocessing: Scale numerical features and one-hot encode categorical features\n",
        "preprocessor = ColumnTransformer(\n",
        "    transformers=[\n",
        "        ('num', StandardScaler(), ['age', 'monthly_usage_hours', 'purchase_amount',\n",
        "                                   'customer_service_calls']),\n",
        "        ('cat', OneHotEncoder(sparse_output=False), ['region'])\n",
        "    ])\n",
        "\n",
        "# Create pipeline with preprocessing and model\n",
        "model = Pipeline(steps=[\n",
        "    ('preprocessor', preprocessor),\n",
        "    ('classifier', LogisticRegression(random_state=42))\n",
        "])\n",
        "\n",
        "# Split data\n",
        "X_train, X_test, y_train, y_test = train_test_split(X, y, test_size=0.2,\n",
        "                                                    random_state=42)\n",
        "\n",
        "# Train model\n",
        "model.fit(X_train, y_train)\n",
        "\n",
        "# Predict churn probability for a new customer\n",
        "new_customer = pd.DataFrame({\n",
        "    'age': [35],\n",
        "    'monthly_usage_hours': [20],\n",
        "    'purchase_amount': [150],\n",
        "    'customer_service_calls': [5],\n",
        "    'region': ['West']\n",
        "})\n",
        "churn_probability = model.predict_proba(new_customer)[0][1]\n",
        "# Probability of churn (class 1)\n",
        "\n",
        "# Classify based on threshold (0.5)\n",
        "threshold = 0.5\n",
        "churn_prediction = 1 if churn_probability > threshold else 0\n",
        "\n",
        "print(f\"Churn Probability for new customer: {churn_probability:.2f}\")\n",
        "print(f\"Churn Prediction (1 = churn, 0 = no churn): {churn_prediction}\")\n",
        "\n",
        "# Display model coefficients\n",
        "feature_names = (model.named_steps['preprocessor']\n",
        "                 .named_transformers_['cat']\n",
        "                 .get_feature_names_out(['region'])).tolist() + ['age',\n",
        "                                                                 'monthly_usage_hours', 'purchase_amount', 'customer_service_calls']\n",
        "coefficients = model.named_steps['classifier'].coef_[0]\n",
        "\n",
        "print(\"\\nModel Coefficients:\")\n",
        "for feature, coef in zip(feature_names, coefficients):\n",
        "    print(f\"{feature}: {coef:.2f}\")"
      ]
    }
  ]
}