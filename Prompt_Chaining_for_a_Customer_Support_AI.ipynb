{
  "nbformat": 4,
  "nbformat_minor": 0,
  "metadata": {
    "colab": {
      "provenance": [],
      "authorship_tag": "ABX9TyOH6EE/WTDrTiWToN2xpfxD",
      "include_colab_link": true
    },
    "kernelspec": {
      "name": "python3",
      "display_name": "Python 3"
    },
    "language_info": {
      "name": "python"
    }
  },
  "cells": [
    {
      "cell_type": "markdown",
      "metadata": {
        "id": "view-in-github",
        "colab_type": "text"
      },
      "source": [
        "<a href=\"https://colab.research.google.com/github/marlenebriseno-sys/AAI2025/blob/main/Prompt_Chaining_for_a_Customer_Support_AI.ipynb\" target=\"_parent\"><img src=\"https://colab.research.google.com/assets/colab-badge.svg\" alt=\"Open In Colab\"/></a>"
      ]
    },
    {
      "cell_type": "code",
      "source": [
        "# JCPenney Customer Support Prompt Chain\n",
        "\n",
        "# --- Step 0: Mini FAQ we will use (JCPenney themed demo) ---\n",
        "FAQ = {\n",
        "    \"credit_card\": \"For JCPenney credit card (regular or Mastercard) payments or billing issues, log in to your JCPenney Credit Card Account online. You can update your payment method under Billing → Update Payment Method.\",\n",
        "    \"returns\": \"JCPenney accepts returns within 60 days of purchase. Bring your receipt or order confirmation, or start a return online under Orders → Select Item → Return.\",\n",
        "    \"order_tracking\": \"To track your JCPenney order, log in to your account and go to Orders → Track Order. You’ll see the latest shipping status there.\"\n",
        "}\n",
        "\n",
        "# --- Step 1: Figure out what the user wants (intent) ---\n",
        "def classify_intent(user_message):\n",
        "    msg = user_message.lower()\n",
        "\n",
        "    # credit card related\n",
        "    if any(word in msg for word in [\"credit card\", \"mastercard\", \"billing\", \"payment\", \"statement\"]):\n",
        "        return {\"intent\": \"credit_card\", \"confidence\": 0.92}\n",
        "\n",
        "    # returns related\n",
        "    if any(word in msg for word in [\"return\", \"refund\", \"exchange\"]):\n",
        "        return {\"intent\": \"returns\", \"confidence\": 0.90}\n",
        "\n",
        "    # order tracking\n",
        "    if any(word in msg for word in [\"track\", \"tracking\", \"order status\", \"shipping\", \"delivery\"]):\n",
        "        return {\"intent\": \"order_tracking\", \"confidence\": 0.88}\n",
        "\n",
        "    return {\"intent\": \"unknown\", \"confidence\": 0.50}\n",
        "\n",
        "# --- Step 2: Look up a helpful answer ---\n",
        "def get_faq_snippet(intent):\n",
        "    return FAQ.get(intent, \"No matching FAQ found. Please connect to a JCPenney customer support agent for help.\")\n",
        "\n",
        "# --- Step 3: Ask a follow-up if needed ---\n",
        "def make_clarifying_question(user_message):\n",
        "    if \"?\" in user_message:\n",
        "        return \"no_clarification_needed\"\n",
        "    return \"Could you tell me if this is about your JCPenney Credit Card, a return, or an order tracking request?\"\n",
        "\n",
        "# --- Step 4: Put together the final answer ---\n",
        "def compose_final_answer(snippet, clarifying_question):\n",
        "    answer = (\n",
        "        \"Thanks for contacting JCPenney Customer Support! Here's what to do:\\n\"\n",
        "        f\"- {snippet}\\n\"\n",
        "        \"If you run into trouble, reply here and we’ll be happy to assist further.\"\n",
        "    )\n",
        "    if clarifying_question != \"no_clarification_needed\":\n",
        "        answer += f\"\\n\\nBefore we proceed: {clarifying_question}\"\n",
        "    return answer\n",
        "\n",
        "# --- Step 5: Quick quality check ---\n",
        "def quality_check(answer_text):\n",
        "    is_complete = \"complete\" if \"reply here\" in answer_text else \"incomplete\"\n",
        "    suggestion = \"Add a direct link to the JCPenney Help Center for more details.\"\n",
        "    return {\"rating\": is_complete, \"suggestion\": suggestion}\n",
        "\n",
        "# --- Step 6: Run the full support flow ---\n",
        "def run_support_chain(user_message):\n",
        "    print(\"USER MESSAGE:\", user_message)\n",
        "    print(\"-\" * 60)\n",
        "\n",
        "    intent_info = classify_intent(user_message)\n",
        "    print(\"Step 1) Intent:\", intent_info)\n",
        "\n",
        "    snippet = get_faq_snippet(intent_info[\"intent\"])\n",
        "    print(\"Step 2) FAQ Snippet:\", snippet)\n",
        "\n",
        "    clarifying = make_clarifying_question(user_message)\n",
        "    print(\"Step 3) Clarification:\", clarifying)\n",
        "\n",
        "    final_answer = compose_final_answer(snippet, clarifying)\n",
        "    print(\"Step 4) Final Answer:\\n\", final_answer)\n",
        "\n",
        "    qc = quality_check(final_answer)\n",
        "    print(\"Step 5) Quality Check:\", qc)\n",
        "\n",
        "    return {\n",
        "        \"intent\": intent_info,\n",
        "        \"snippet\": snippet,\n",
        "        \"clarifying\": clarifying,\n",
        "        \"final_answer\": final_answer,\n",
        "        \"quality\": qc\n",
        "    }\n",
        "\n",
        "# --- Try it with some JCPenney examples ---\n",
        "# Example 1: Credit card issue\n",
        "user_message = \"I need help with my JCPenney credit card payment.\"\n",
        "result = run_support_chain(user_message)\n",
        "\n",
        "print(\"\\n\\n--- Another Example ---\\n\")\n",
        "# Example 2: Returns\n",
        "user_message2 = \"How many days do I have to return something to JCPenney?\"\n",
        "result2 = run_support_chain(user_message2)"
      ],
      "metadata": {
        "colab": {
          "base_uri": "https://localhost:8080/"
        },
        "id": "cQG2y4GW1Cyo",
        "outputId": "1be9e81d-55ab-49a6-8602-3faa96dfade3"
      },
      "execution_count": null,
      "outputs": [
        {
          "output_type": "stream",
          "name": "stdout",
          "text": [
            "USER MESSAGE: I need help with my JCPenney credit card payment.\n",
            "------------------------------------------------------------\n",
            "Step 1) Intent: {'intent': 'credit_card', 'confidence': 0.92}\n",
            "Step 2) FAQ Snippet: For JCPenney credit card (regular or Mastercard) payments or billing issues, log in to your JCPenney Credit Card Account online. You can update your payment method under Billing → Update Payment Method.\n",
            "Step 3) Clarification: Could you tell me if this is about your JCPenney Credit Card, a return, or an order tracking request?\n",
            "Step 4) Final Answer:\n",
            " Thanks for contacting JCPenney Customer Support! Here's what to do:\n",
            "- For JCPenney credit card (regular or Mastercard) payments or billing issues, log in to your JCPenney Credit Card Account online. You can update your payment method under Billing → Update Payment Method.\n",
            "If you run into trouble, reply here and we’ll be happy to assist further.\n",
            "\n",
            "Before we proceed: Could you tell me if this is about your JCPenney Credit Card, a return, or an order tracking request?\n",
            "Step 5) Quality Check: {'rating': 'complete', 'suggestion': 'Add a direct link to the JCPenney Help Center for more details.'}\n",
            "\n",
            "\n",
            "--- Another Example ---\n",
            "\n",
            "USER MESSAGE: How many days do I have to return something to JCPenney?\n",
            "------------------------------------------------------------\n",
            "Step 1) Intent: {'intent': 'returns', 'confidence': 0.9}\n",
            "Step 2) FAQ Snippet: JCPenney accepts returns within 60 days of purchase. Bring your receipt or order confirmation, or start a return online under Orders → Select Item → Return.\n",
            "Step 3) Clarification: no_clarification_needed\n",
            "Step 4) Final Answer:\n",
            " Thanks for contacting JCPenney Customer Support! Here's what to do:\n",
            "- JCPenney accepts returns within 60 days of purchase. Bring your receipt or order confirmation, or start a return online under Orders → Select Item → Return.\n",
            "If you run into trouble, reply here and we’ll be happy to assist further.\n",
            "Step 5) Quality Check: {'rating': 'complete', 'suggestion': 'Add a direct link to the JCPenney Help Center for more details.'}\n"
          ]
        }
      ]
    }
  ]
}