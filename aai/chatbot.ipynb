{
  "cells": [
    {
      "cell_type": "markdown",
      "metadata": {
        "id": "view-in-github",
        "colab_type": "text"
      },
      "source": [
        "<a href=\"https://colab.research.google.com/github/myrah/AAI2025/blob/dev/aai/chatbot.ipynb\" target=\"_parent\"><img src=\"https://colab.research.google.com/assets/colab-badge.svg\" alt=\"Open In Colab\"/></a>"
      ]
    },
    {
      "cell_type": "markdown",
      "source": [
        "A basic coding example to get a basic chatbot with OpenAI API\n",
        "\n",
        "**Code Example:**"
      ],
      "metadata": {
        "id": "mI3XMrjxopNE"
      }
    },
    {
      "cell_type": "code",
      "source": [
        "import openai\n",
        "\n",
        "# Set your OpenAI API key\n",
        "from google.colab import userdata\n",
        "import os\n",
        "\n",
        "api_key = userdata.get('OPENAI_API_KEY')\n",
        "# os.environ['OPENAI_API_KEY'] = api_key\n",
        "# print(os.environ['OPENAI_API_KEY'])\n",
        "\n",
        "# Define a simple agent system prompt\n",
        "SYSTEM_PROMPT = \"\"\"\n",
        "You are an intelligent assistant that helps with answering questions, summarizing text, and writing simple code.\n",
        "Be concise, accurate, and helpful. If you don't know something, say so.\n",
        "\"\"\"\n",
        "\n",
        "def chat_with_agent(user_input):\n",
        "    try:\n",
        "        response = openai.ChatCompletion.create(\n",
        "            model=\"gpt-4\",  # Or use \"gpt-3.5-turbo\" if needed\n",
        "            messages=[\n",
        "                {\"role\": \"system\", \"content\": SYSTEM_PROMPT},\n",
        "                {\"role\": \"user\", \"content\": user_input}\n",
        "            ],\n",
        "            temperature=0.7\n",
        "        )\n",
        "        return response['choices'][0]['message']['content']\n",
        "    except Exception as e:\n",
        "        return f\"Error: {e}\"\n",
        "\n",
        "def main():\n",
        "    print(\"🔹 AI Agent is ready. Type 'exit' to quit.\\n\")\n",
        "    while True:\n",
        "        user_input = input(\"🗣️ You: \")\n",
        "        if user_input.lower() in ['exit', 'quit']:\n",
        "            print(\"👋 Goodbye!\")\n",
        "            break\n",
        "        reply = chat_with_agent(user_input)\n",
        "        print(f\"🤖 Agent: {reply}\\n\")\n",
        "\n",
        "if __name__ == \"__main__\":\n",
        "    main()"
      ],
      "metadata": {
        "colab": {
          "base_uri": "https://localhost:8080/"
        },
        "id": "-dM_jOmHcw_o",
        "outputId": "60193e07-223f-4aeb-b8eb-b3ddc1be9068"
      },
      "execution_count": 2,
      "outputs": [
        {
          "output_type": "stream",
          "name": "stdout",
          "text": [
            "🔹 AI Agent is ready. Type 'exit' to quit.\n",
            "\n",
            "🗣️ You: exit\n",
            "👋 Goodbye!\n"
          ]
        }
      ]
    }
}
