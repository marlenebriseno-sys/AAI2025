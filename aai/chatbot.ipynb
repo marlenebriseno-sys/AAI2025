{
  "nbformat": 4,
  "nbformat_minor": 0,
  "metadata": {
    "colab": {
      "provenance": [],
      "authorship_tag": "ABX9TyNmI0LZ6rspK6UFF43rqu/i",
      "include_colab_link": true
    },
    "kernelspec": {
      "name": "python3",
      "display_name": "Python 3"
    },
    "language_info": {
      "name": "python"
    }
  },
  "cells": [
    {
      "cell_type": "markdown",
      "metadata": {
        "id": "view-in-github",
        "colab_type": "text"
      },
      "source": [
        "<a href=\"https://colab.research.google.com/github/myrah/AAI2025/blob/dev/aai/chatbot.ipynb\" target=\"_parent\"><img src=\"https://colab.research.google.com/assets/colab-badge.svg\" alt=\"Open In Colab\"/></a>"
      ]
    },
    {
      "cell_type": "code",
      "execution_count": 1,
      "metadata": {
        "colab": {
          "base_uri": "https://localhost:8080/"
        },
        "id": "5Mdqa1p3ijUc",
        "outputId": "002432c7-382a-4f82-ee01-7d9523bdcae1"
      },
      "outputs": [
        {
          "output_type": "stream",
          "name": "stdout",
          "text": [
            "🔹 AI Agent is ready. Type 'exit' to quit.\n",
            "\n",
            "🗣️ You: exit\n",
            "👋 Goodbye!\n"
          ]
        }
      ],
      "source": [
        "import openai\n",
        "\n",
        "# Set your OpenAI API key\n",
        "from google.colab import userdata\n",
        "import os\n",
        "\n",
        "api_key = userdata.get('OPENAI_API_KEY')\n",
        "# os.environ['OPENAI_API_KEY'] = api_key\n",
        "# print(os.environ['OPENAI_API_KEY'])\n",
        "\n",
        "# Define a simple agent system prompt\n",
        "SYSTEM_PROMPT = \"\"\"\n",
        "You are an intelligent assistant that helps with answering questions, summarizing text, and writing simple code.\n",
        "Be concise, accurate, and helpful. If you don't know something, say so.\n",
        "\"\"\"\n",
        "\n",
        "def chat_with_agent(user_input):\n",
        "    try:\n",
        "        response = openai.ChatCompletion.create(\n",
        "            model=\"gpt-4\",  # Or use \"gpt-3.5-turbo\" if needed\n",
        "            messages=[\n",
        "                {\"role\": \"system\", \"content\": SYSTEM_PROMPT},\n",
        "                {\"role\": \"user\", \"content\": user_input}\n",
        "            ],\n",
        "            temperature=0.7\n",
        "        )\n",
        "        return response['choices'][0]['message']['content']\n",
        "    except Exception as e:\n",
        "        return f\"Error: {e}\"\n",
        "\n",
        "def main():\n",
        "    print(\"🔹 AI Agent is ready. Type 'exit' to quit.\\n\")\n",
        "    while True:\n",
        "        user_input = input(\"🗣️ You: \")\n",
        "        if user_input.lower() in ['exit', 'quit']:\n",
        "            print(\"👋 Goodbye!\")\n",
        "            break\n",
        "        reply = chat_with_agent(user_input)\n",
        "        print(f\"🤖 Agent: {reply}\\n\")\n",
        "\n",
        "if __name__ == \"__main__\":\n",
        "    main()"
      ]
    }
  ]
}