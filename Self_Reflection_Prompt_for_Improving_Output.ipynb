{
  "nbformat": 4,
  "nbformat_minor": 0,
  "metadata": {
    "colab": {
      "provenance": [],
      "authorship_tag": "ABX9TyOBgXgxqXsspsCK/v4o5S6a",
      "include_colab_link": true
    },
    "kernelspec": {
      "name": "python3",
      "display_name": "Python 3"
    },
    "language_info": {
      "name": "python"
    }
  },
  "cells": [
    {
      "cell_type": "markdown",
      "metadata": {
        "id": "view-in-github",
        "colab_type": "text"
      },
      "source": [
        "<a href=\"https://colab.research.google.com/github/marlenebriseno-sys/AAI2025/blob/main/Self_Reflection_Prompt_for_Improving_Output.ipynb\" target=\"_parent\"><img src=\"https://colab.research.google.com/assets/colab-badge.svg\" alt=\"Open In Colab\"/></a>"
      ]
    },
    {
      "cell_type": "code",
      "execution_count": null,
      "metadata": {
        "colab": {
          "base_uri": "https://localhost:8080/"
        },
        "id": "5OCRjjn_-zsC",
        "outputId": "5ed3a2bf-ad1c-4e55-b6cc-a96aedad8785"
      },
      "outputs": [
        {
          "output_type": "stream",
          "name": "stdout",
          "text": [
            "Initial Summary:\n",
            "- JCPenney accepts returns within 60 days of purchase when customers bring a receipt or order confirmation\n",
            "- These policies are designed to make shopping and post-purchase support easier for JCPenney shoppers\n",
            "- Customers may also track their online order status by logging in and checking the Orders page\n",
            "- JCPenney customers can manage credit card payments and billing through their online account\n",
            "\n",
            "Critique:\n",
            "Coverage: 3/3 topics mentioned (credit card, returns, order).\n",
            "Concision: Bullets look short enough.\n",
            "Clarity: Be direct and use simple words.\n",
            "Missing key point: returns.\n",
            "Overlong phrasing candidate: - JCPenney accepts returns within 60 days of purchase when customers bring a rec...\n",
            "\n",
            "Improved Summary:\n",
            "JCPenney lets customers manage credit card billing online, return items within 60 days, and track orders through their account. This summary focuses on the core actions shoppers care about—payments, returns, and delivery updates—using clear, concise wording.\n"
          ]
        }
      ],
      "source": [
        "from typing import List, Dict\n",
        "\n",
        "def simple_summary(text: str, max_points: int = 4) -> List[str]:\n",
        "    # Very simple: split into sentences and pick the longest ones as \"important\"\n",
        "    sentences = [s.strip() for s in text.replace(\"\\n\", \" \").split(\".\") if s.strip()]\n",
        "    sentences_sorted = sorted(sentences, key=len, reverse=True)\n",
        "    return [f\"- {s}\" for s in sentences_sorted[:max_points]]\n",
        "\n",
        "def reflect(summary_bullets: List[str], text: str) -> Dict[str, str]:\n",
        "    # Check if bullets touch these big ideas\n",
        "    keywords = [\"credit card\", \"returns\", \"order\"]\n",
        "    coverage = sum(any(k in b.lower() for b in summary_bullets) for k in keywords)\n",
        "\n",
        "    critique_lines = []\n",
        "    critique_lines.append(f\"Coverage: {coverage}/3 topics mentioned (credit card, returns, order).\")\n",
        "\n",
        "    # Concision check: flag long bullets\n",
        "    long_bullets = [b for b in summary_bullets if len(b) > 120]\n",
        "    critique_lines.append(\"Concision: Some bullets are long; shorten them.\" if long_bullets\n",
        "                          else \"Concision: Bullets look short enough.\")\n",
        "\n",
        "    # Clarity tip\n",
        "    critique_lines.append(\"Clarity: Be direct and use simple words.\")\n",
        "\n",
        "    # Identify a missing key point (if any)\n",
        "    missing_topic = \"order tracking\" if coverage < 3 else \"returns\"\n",
        "    critique_lines.append(f\"Missing key point: {missing_topic}.\")\n",
        "\n",
        "    # Show a candidate to shorten\n",
        "    overlong = long_bullets[0] if long_bullets else (summary_bullets[0] if summary_bullets else \"\")\n",
        "    critique_lines.append(f\"Overlong phrasing candidate: {overlong[:80]}...\")\n",
        "\n",
        "    # Improved short summary (2–3 sentences)\n",
        "    improved = (\n",
        "        \"JCPenney lets customers manage credit card billing online, return items within 60 days, \"\n",
        "        \"and track orders through their account. This summary focuses on the core actions shoppers \"\n",
        "        \"care about—payments, returns, and delivery updates—using clear, concise wording.\"\n",
        "    )\n",
        "\n",
        "    return {\"critique\": \"\\n\".join(critique_lines), \"improved_summary\": improved}\n",
        "\n",
        "# --- Try it with a short policy text (edit if you want) ---\n",
        "text = \"\"\"JCPenney customers can manage credit card payments and billing through their online account.\n",
        "JCPenney accepts returns within 60 days of purchase when customers bring a receipt or order confirmation.\n",
        "Customers may also track their online order status by logging in and checking the Orders page.\n",
        "These policies are designed to make shopping and post-purchase support easier for JCPenney shoppers.\"\"\"\n",
        "\n",
        "# Run the steps\n",
        "bullets = simple_summary(text)\n",
        "feedback = reflect(bullets, text)\n",
        "\n",
        "print(\"Initial Summary:\")\n",
        "print(\"\\n\".join(bullets))\n",
        "print(\"\\nCritique:\")\n",
        "print(feedback[\"critique\"])\n",
        "print(\"\\nImproved Summary:\")\n",
        "print(feedback[\"improved_summary\"])"
      ]
    }
  ]
}