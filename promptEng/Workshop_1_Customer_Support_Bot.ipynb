{
  "cells": [
    {
      "cell_type": "markdown",
      "metadata": {
        "id": "view-in-github",
        "colab_type": "text"
      },
      "source": [
        "<a href=\"https://colab.research.google.com/github/myrah/AAI2025/blob/dev/promptEng/Workshop_1_Customer_Support_Bot.ipynb\" target=\"_parent\"><img src=\"https://colab.research.google.com/assets/colab-badge.svg\" alt=\"Open In Colab\"/></a>"
      ]
    },
    {
      "cell_type": "code",
      "source": [
        "# Workshop 1: Basic Prompting for a Customer Support Bot\n",
        "# Objective: To practice writing clear, concise, and context-rich prompts for a common use case.\n",
        "# Scenario: You are developing a customer support bot for an e-commerce store that sells electronics.\n",
        "# A customer is asking for the return policy for a defective laptop.\n",
        "\n",
        "def customer_support_bot(prompt):\n",
        "    \"\"\"\n",
        "    Simulates an AI agent responding to a customer query.\n",
        "    In a real application, this function would make an API call to a large language model.\n",
        "    \"\"\"\n",
        "    print(f\"--- Sending Prompt to AI Agent ---\\n{prompt}\\n----------------------------------\")\n",
        "    # Simulated AI response\n",
        "    response = \"Our return policy for defective laptops allows for a full refund or exchange within 30 days of purchase. Please provide your order number to initiate the process.\"\n",
        "    return response\n",
        "\n",
        "# --- Task ---\n",
        "# Improve the prompt below to be more effective.\n",
        "# Consider adding clarity, context, and a specific role for the agent.\n",
        "\n",
        "# Initial, less effective prompt\n",
        "initial_prompt = \"Tell me about returns.\"\n",
        "\n",
        "# Your improved prompt\n",
        "# Tip: Think about what information the AI needs to give a helpful and specific answer.\n",
        "# What is the product? What is the issue? What should the AI's persona be?\n",
        "improved_prompt = \"\"\"\n",
        "You are a helpful and friendly customer support representative for 'ElectroGadget Store'.\n",
        "A customer has a defective laptop they purchased 15 days ago.\n",
        "Explain the return policy for this specific situation and guide them on the next steps.\n",
        "\"\"\"\n",
        "\n",
        "# --- Execution ---\n",
        "print(\"--- Initial Prompt Response ---\")\n",
        "print(customer_support_bot(initial_prompt))\n",
        "\n",
        "print(\"\\n\\n--- Improved Prompt Response ---\")\n",
        "print(customer_support_bot(improved_prompt))"
      ],
      "outputs": [
        {
          "output_type": "stream",
          "name": "stdout",
          "text": [
            "--- Initial Prompt Response ---\n",
            "--- Sending Prompt to AI Agent ---\n",
            "Tell me about returns.\n",
            "----------------------------------\n",
            "Our return policy for defective laptops allows for a full refund or exchange within 30 days of purchase. Please provide your order number to initiate the process.\n",
            "\n",
            "\n",
            "--- Improved Prompt Response ---\n",
            "--- Sending Prompt to AI Agent ---\n",
            "\n",
            "You are a helpful and friendly customer support representative for 'ElectroGadget Store'.\n",
            "A customer has a defective laptop they purchased 15 days ago.\n",
            "Explain the return policy for this specific situation and guide them on the next steps.\n",
            "\n",
            "----------------------------------\n",
            "Our return policy for defective laptops allows for a full refund or exchange within 30 days of purchase. Please provide your order number to initiate the process.\n"
          ]
        }
      ],
      "execution_count": null,
      "metadata": {
        "colab": {
          "base_uri": "https://localhost:8080/"
        },
        "id": "zPl4FZmalGb-",
        "outputId": "ab9617cb-2da9-4eb6-e6a2-89d721c60098"
      }
    }
  ],
  "metadata": {
    "colab": {
      "provenance": [],
      "include_colab_link": true
    },
    "kernelspec": {
      "display_name": "Python 3",
      "name": "python3"
    }
  },
  "nbformat": 4,
  "nbformat_minor": 0
}